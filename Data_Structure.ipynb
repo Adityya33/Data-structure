{
  "nbformat": 4,
  "nbformat_minor": 0,
  "metadata": {
    "colab": {
      "provenance": []
    },
    "kernelspec": {
      "name": "python3",
      "display_name": "Python 3"
    },
    "language_info": {
      "name": "python"
    }
  },
  "cells": [
    {
      "cell_type": "markdown",
      "source": [
        "# Data stucture\n",
        "\n"
      ],
      "metadata": {
        "id": "qcf2W-6kFXU9"
      }
    },
    {
      "cell_type": "markdown",
      "source": [
        "1. What are data structures, and why are they important?\n",
        "  - Data structures are specialized formats for organizing, storing, and accessing collections of data. It impacts the efficiency and performance of your program.\n",
        "2. Explain the difference between mutable and immutable data types with examples.\n",
        "   - Mutable data types are those which can be change. for eg:list , dict , set , bytearray\n",
        "   - Immutable data types are those which can't be change. For eg: int , float , str , tuple , frozenset , bytes .\n",
        "3.  What are the main differences between lists and tuples in Python?   \n",
        "    - Most common difference in list and tuples is that the list are mutable and used for dynamic data where tupples are imutable and uses for fixed data .\n",
        "4.  Describe how dictionaries store data.     \n",
        "    - Dictionaries store data as key value pairs.\n",
        "5.   Why might you use a set instead of a list in Python.\n",
        "     - Because sets automatically removes duplicates and ensure that all elements are unique.\n",
        "6.    What is a string in Python, and how is it different from a list?\n",
        "      - A string is a textual data type used to represent words or any sequence of character on other hand a list is a sequence of items .\n",
        "      - Major defference between them is that string is immutable and list is a mutable .\n",
        "7.     How do tuples ensure data integrity in Python?\n",
        "       - Tuples ensure data integrity through their immutability—meaning their contents cannot be changed after creation.\n",
        "8.      What is a hash table, and how does it relate to dictionaries in Python?\n",
        "        - A hash table is a data structure that maps keys to values using a process called hashing.Python’s dictionary is implemented using a hash table.         \n",
        "9.      Can lists contain different data types in Python?\n",
        "        - Yes, lists can hold items of various data types (numbers, strings, even other lists!).\n",
        "10.      Explain why strings are immutable in Python.\n",
        "         -\n",
        "11.     What advantages do dictionaries offer over lists for certain tasks ?\n",
        "        - Dictionaries (dict) offer key-based access, making them more efficient and semantically meaningful than lists (list) for many tasks—especially when dealing with structured or lookup-heavy data.\n",
        "12.      Describe a scenario where using a tuple would be preferable over a list.\n",
        "          - A tuple is preferable over a list when you need to store a fixed collection of related data that should not be changed.\n",
        "13.       How do sets handle duplicate values in Python?\n",
        "          - When you insert a value into a set, Python checks if the value is already present.If it is present, the set remains unchanged.If it is not present, the value is added.\n",
        "14.        How does the “in” keyword work differently for lists and dictionaries?\n",
        "           - In list checks if value exists anywhere in the list.\n",
        "           - In dictionary checks if the key exists in the dictionary.\n",
        "15.        Can you modify the elements of a tuple? Explain why or why not.\n",
        "           - No we cannot modify the elements of tuple.\n",
        "           - Because tuples are immutable object , Immutability ensures data integrity and predictability.\n",
        "16.        What is a nested dictionary, and give an example of its use case?             \n",
        "           - A nested dictionary in Python is a dictionary where one or more values are themselves dictionaries.\n",
        "           - To represent complex objects or hierarchical relationships.\n",
        "17.        Describe the time complexity of accessing elements in a dictionary.\n",
        "           -   \n",
        "18.        In what situations are lists preferred over dictionaries?\n",
        "           - Where duplicate vaues are needed , where maintain the order of elements and access them by position/index , where we want to store a collection of values without associated keys.\n",
        "\n",
        "19.        Why are dictionaries considered unordered, and how does that affect data retrieval?\n",
        "           - In python, dictionaries are un-ordered because Python dictionaries are not intended to be in order.\n",
        "20.         Explain the difference between a list and a dictionary in terms of data retrieval.           \n",
        "            - List accessed by index where dictionary accessed by key.\n",
        "            - List maintain order where dictionary unorderd.\n",
        "            - List linear search where dictionary need to check keys.\n",
        "             \n",
        "\n",
        "          "
      ],
      "metadata": {
        "id": "dDkZqueGFkAV"
      }
    },
    {
      "cell_type": "markdown",
      "source": [
        "# practical questions\n"
      ],
      "metadata": {
        "id": "_P9I7T_hWbtw"
      }
    },
    {
      "cell_type": "code",
      "source": [
        "#  Write a code to create a string with your name and print it.\n",
        "Name = \"Aditya\"\n",
        "print(Name)"
      ],
      "metadata": {
        "colab": {
          "base_uri": "https://localhost:8080/"
        },
        "id": "bYF78z2OWlqg",
        "outputId": "23c8bb01-6c14-4005-92cc-b390ac30d3c7"
      },
      "execution_count": 1,
      "outputs": [
        {
          "output_type": "stream",
          "name": "stdout",
          "text": [
            "Aditya\n"
          ]
        }
      ]
    },
    {
      "cell_type": "code",
      "source": [
        "# Write a code to find the length of the string \"Hello World\".\n",
        "String = \"Hello World\"\n",
        "len(String)"
      ],
      "metadata": {
        "colab": {
          "base_uri": "https://localhost:8080/"
        },
        "id": "LVEsqo08W2av",
        "outputId": "a1f132b7-b254-4351-b99c-04fc24730bf7"
      },
      "execution_count": 2,
      "outputs": [
        {
          "output_type": "execute_result",
          "data": {
            "text/plain": [
              "11"
            ]
          },
          "metadata": {},
          "execution_count": 2
        }
      ]
    },
    {
      "cell_type": "code",
      "source": [
        "#  Write a code to slice the first 3 characters from the string \"Python Programming\n",
        "Text =  \"Python Programming\"\n",
        "Text[:3]"
      ],
      "metadata": {
        "colab": {
          "base_uri": "https://localhost:8080/",
          "height": 35
        },
        "id": "c3tXZUepXTVY",
        "outputId": "0cf9c785-3607-4bc9-dd5f-7476eb957115"
      },
      "execution_count": 3,
      "outputs": [
        {
          "output_type": "execute_result",
          "data": {
            "text/plain": [
              "'Pyt'"
            ],
            "application/vnd.google.colaboratory.intrinsic+json": {
              "type": "string"
            }
          },
          "metadata": {},
          "execution_count": 3
        }
      ]
    },
    {
      "cell_type": "code",
      "source": [
        "# Write a code to convert the string \"hello\" to uppercase\n",
        "String = \"hello\"\n",
        "String.upper()"
      ],
      "metadata": {
        "colab": {
          "base_uri": "https://localhost:8080/",
          "height": 35
        },
        "id": "HjlS3cOeXsTe",
        "outputId": "7330ef63-e74a-422b-8173-1672617472ae"
      },
      "execution_count": 4,
      "outputs": [
        {
          "output_type": "execute_result",
          "data": {
            "text/plain": [
              "'HELLO'"
            ],
            "application/vnd.google.colaboratory.intrinsic+json": {
              "type": "string"
            }
          },
          "metadata": {},
          "execution_count": 4
        }
      ]
    },
    {
      "cell_type": "code",
      "source": [
        "# Write a code to replace the word \"apple\" with \"orange\" in the string \"I like apple\"\n",
        "Text = \"I like apple\"\n",
        "Text.replace('apple','orange')"
      ],
      "metadata": {
        "colab": {
          "base_uri": "https://localhost:8080/",
          "height": 35
        },
        "id": "81HL0C2PYBFm",
        "outputId": "2c02707c-e040-4509-a79d-bc181c1205a8"
      },
      "execution_count": 5,
      "outputs": [
        {
          "output_type": "execute_result",
          "data": {
            "text/plain": [
              "'I like orange'"
            ],
            "application/vnd.google.colaboratory.intrinsic+json": {
              "type": "string"
            }
          },
          "metadata": {},
          "execution_count": 5
        }
      ]
    },
    {
      "cell_type": "code",
      "source": [
        "# Write a code to create a list with numbers 1 to 5 and print it\n",
        "Numbers = [1,2,3,4,5]\n",
        "print(Numbers)"
      ],
      "metadata": {
        "colab": {
          "base_uri": "https://localhost:8080/"
        },
        "id": "UAs2T1hhYb5O",
        "outputId": "8436cd28-eaaf-4135-80e8-fd48f3663f39"
      },
      "execution_count": 6,
      "outputs": [
        {
          "output_type": "stream",
          "name": "stdout",
          "text": [
            "[1, 2, 3, 4, 5]\n"
          ]
        }
      ]
    },
    {
      "cell_type": "code",
      "source": [
        "# Write a code to append the number 10 to the list [1, 2, 3, 4]\n",
        "List = [1,2,3,4]\n",
        "List.append(10)\n",
        "print(List)"
      ],
      "metadata": {
        "colab": {
          "base_uri": "https://localhost:8080/"
        },
        "id": "r_6hDNb3YwuG",
        "outputId": "2ecf41a2-7696-4c3c-84f0-f0db218ec604"
      },
      "execution_count": 7,
      "outputs": [
        {
          "output_type": "stream",
          "name": "stdout",
          "text": [
            "[1, 2, 3, 4, 10]\n"
          ]
        }
      ]
    },
    {
      "cell_type": "code",
      "source": [
        "# Write a code to remove the number 3 from the list [1, 2, 3, 4, 5]\n",
        "List = [1,2,3,4,5]\n",
        "List.remove(3)\n",
        "print(List)"
      ],
      "metadata": {
        "colab": {
          "base_uri": "https://localhost:8080/"
        },
        "id": "-U2GHSKrZGKu",
        "outputId": "be2255ee-d7a2-4f1f-d354-4f1478e6104a"
      },
      "execution_count": 11,
      "outputs": [
        {
          "output_type": "stream",
          "name": "stdout",
          "text": [
            "[1, 2, 4, 5]\n"
          ]
        }
      ]
    },
    {
      "cell_type": "code",
      "source": [
        "# Write a code to access the second element in the list ['a', 'b', 'c', 'd']\n",
        "List = ['a','b','c','d']\n",
        "second_element = List[1]\n",
        "print(second_element)"
      ],
      "metadata": {
        "colab": {
          "base_uri": "https://localhost:8080/"
        },
        "id": "r_EqRw07ZXKG",
        "outputId": "e3a04ac5-3e9d-4f03-ad44-ed4dd37030f7"
      },
      "execution_count": 12,
      "outputs": [
        {
          "output_type": "stream",
          "name": "stdout",
          "text": [
            "b\n"
          ]
        }
      ]
    },
    {
      "cell_type": "code",
      "source": [
        "# Write a code to reverse the list [10, 20, 30, 40, 50]\n",
        "List = [10, 20, 30, 40, 50]\n",
        "List.reverse()\n",
        "print(List)"
      ],
      "metadata": {
        "colab": {
          "base_uri": "https://localhost:8080/"
        },
        "id": "FMLxYylGaWG_",
        "outputId": "f663beb9-733f-4488-d7a0-d8a6cae28db7"
      },
      "execution_count": 14,
      "outputs": [
        {
          "output_type": "stream",
          "name": "stdout",
          "text": [
            "[50, 40, 30, 20, 10]\n"
          ]
        }
      ]
    },
    {
      "cell_type": "code",
      "source": [],
      "metadata": {
        "id": "O4WTTjH_aqPm"
      },
      "execution_count": null,
      "outputs": []
    }
  ]
}